{
  "cells": [
    {
      "cell_type": "code",
      "execution_count": null,
      "metadata": {
        "colab": {
          "base_uri": "https://localhost:8080/"
        },
        "id": "epyaE7DVx4te",
        "outputId": "b822e9b1-2aa9-4420-bfa6-2cb135c63f7e"
      },
      "outputs": [
        {
          "output_type": "stream",
          "name": "stdout",
          "text": [
            "Sun Apr 17 09:22:19 2022       \n",
            "+-----------------------------------------------------------------------------+\n",
            "| NVIDIA-SMI 460.32.03    Driver Version: 460.32.03    CUDA Version: 11.2     |\n",
            "|-------------------------------+----------------------+----------------------+\n",
            "| GPU  Name        Persistence-M| Bus-Id        Disp.A | Volatile Uncorr. ECC |\n",
            "| Fan  Temp  Perf  Pwr:Usage/Cap|         Memory-Usage | GPU-Util  Compute M. |\n",
            "|                               |                      |               MIG M. |\n",
            "|===============================+======================+======================|\n",
            "|   0  Tesla T4            Off  | 00000000:00:04.0 Off |                    0 |\n",
            "| N/A   62C    P8    10W /  70W |      0MiB / 15109MiB |      0%      Default |\n",
            "|                               |                      |                  N/A |\n",
            "+-------------------------------+----------------------+----------------------+\n",
            "                                                                               \n",
            "+-----------------------------------------------------------------------------+\n",
            "| Processes:                                                                  |\n",
            "|  GPU   GI   CI        PID   Type   Process name                  GPU Memory |\n",
            "|        ID   ID                                                   Usage      |\n",
            "|=============================================================================|\n",
            "|  No running processes found                                                 |\n",
            "+-----------------------------------------------------------------------------+\n"
          ]
        }
      ],
      "source": [
        "!nvidia-smi"
      ]
    },
    {
      "cell_type": "code",
      "execution_count": null,
      "metadata": {
        "colab": {
          "base_uri": "https://localhost:8080/"
        },
        "id": "xmygO9KyzUSO",
        "outputId": "513433b3-05f9-4d8d-aea7-de59b1590943",
        "cellView": "form"
      },
      "outputs": [
        {
          "output_type": "stream",
          "name": "stdout",
          "text": [
            "Cloning into 'stylegan2-ada-pytorch'...\n",
            "remote: Enumerating objects: 128, done.\u001b[K\n",
            "remote: Total 128 (delta 0), reused 0 (delta 0), pack-reused 128\u001b[K\n",
            "Receiving objects: 100% (128/128), 1.12 MiB | 18.22 MiB/s, done.\n",
            "Resolving deltas: 100% (57/57), done.\n"
          ]
        }
      ],
      "source": [
        "#@title Setting up environment\n",
        "\n",
        "!git clone https://github.com/Quiexx/SpaceFace.git\n",
        "\n",
        "!pip uninstall torch -y\n",
        "!pip install torch==1.7.1\n",
        "!pip install click requests tqdm pyspng ninja imageio-ffmpeg==0.4.3\n",
        "\n",
        "%cd SpaceFace/stylegan2-ada-pytorch"
      ]
    },
    {
      "cell_type": "code",
      "execution_count": null,
      "metadata": {
        "colab": {
          "base_uri": "https://localhost:8080/"
        },
        "id": "pdwQwbWjG4UJ",
        "outputId": "9bded2d6-6c17-4bcf-8377-351f32448046"
      },
      "outputs": [
        {
          "output_type": "stream",
          "name": "stdout",
          "text": [
            "Mounted at /content/drive\n"
          ]
        }
      ],
      "source": [
        "from google.colab import drive\n",
        "drive.mount('/content/drive')"
      ]
    },
    {
      "cell_type": "code",
      "execution_count": null,
      "metadata": {
        "colab": {
          "base_uri": "https://localhost:8080/"
        },
        "id": "GN9pUiNUw95t",
        "outputId": "c69456be-d952-4b79-a9b6-f36c0840cd4e",
        "cellView": "form"
      },
      "outputs": [
        {
          "name": "stdout",
          "output_type": "stream",
          "text": [
            "100% 261/261 [00:21<00:00, 12.20it/s]\n"
          ]
        }
      ],
      "source": [
        "#@title Prepare dataset\n",
        "\n",
        "source = \"../datasets/hubble.zip\" #@param {\"type\": \"string\"}\n",
        "dest = \"hubble_prepared.zip\" #@param {\"type\": \"string\"}\n",
        "width = 1024 #@param {\"type\": \"integer\"}\n",
        "height = 1024 #@param {\"type\": \"integer\"}\n",
        "\n",
        "!python dataset_tool.py --source=$source --dest=$dest  --width=$width --height=$height"
      ]
    },
    {
      "cell_type": "code",
      "execution_count": null,
      "metadata": {
        "id": "X8bN4fUK9Ocn",
        "cellView": "form"
      },
      "outputs": [],
      "source": [
        "#@title Training\n",
        "\n",
        "outdir = \"./\" #@param {\"type\": \"string\"}\n",
        "data = \"../datasets/hubble.zip\" #@param {\"type\": \"string\"}\n",
        "resume_path = \"../drive/MyDrive/NFT_generation/training_runs/00005-hubble-mirror-paper1024-ada-target0.6-resumecustom/network-snapshot-000016.pkl\" #@param {\"type\": \"string\"}\n",
        "mirror = 1 #@param [0, 1]\n",
        "snap = 4 #@param {\"type\": \"integer\"}\n",
        "cfg = \"paper1024\" #@param {\"type\": \"string\"}\n",
        "\n",
        "!python train.py --outdir=$outdir --data=$data --gpus=1 --mirror=$mirror --resume=$resume_path --snap=$snap --cfg=$cfg --aug=ada --target=0.6"
      ]
    }
  ],
  "metadata": {
    "accelerator": "GPU",
    "colab": {
      "collapsed_sections": [],
      "name": "fine_tuning.ipynb",
      "provenance": []
    },
    "kernelspec": {
      "display_name": "Python 3",
      "name": "python3"
    },
    "language_info": {
      "name": "python"
    }
  },
  "nbformat": 4,
  "nbformat_minor": 0
}